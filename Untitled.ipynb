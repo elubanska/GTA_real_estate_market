{
 "cells": [
  {
   "cell_type": "code",
   "execution_count": null,
   "metadata": {},
   "outputs": [],
   "source": [
    "# Dependencies\n",
    "#ELO\n",
    "import matplotlib.pyplot as plt\n",
    "import pandas as pd\n",
    "import scipy.stats as st\n",
    "import numpy as np"
   ]
  },
  {
   "cell_type": "code",
   "execution_count": null,
   "metadata": {},
   "outputs": [],
   "source": [
    "# Study data files\n",
    "interest_rate_path = \"Final_Resources/2. interest_rate_ELO.csv\"\n",
    "covid_path = \"Final_Resources/1. COVID_Reported_cases_per_month_ON.csv\"\n",
    "\n",
    "# Read the mouse data and the study results\n",
    "interest_rate = pd.read_csv(interest_rate_path)\n",
    "covid_cases = pd.read_csv(covid_path)\n",
    "\n",
    "# Combine the data into a single dataset\n",
    "combine_df = pd.merge(mouse_metadata,study_results, how='inner', on='Mouse ID')\n",
    "\n",
    "# Display the data table for preview\n",
    "combine_df"
   ]
  }
 ],
 "metadata": {
  "kernelspec": {
   "display_name": "Python 3",
   "language": "python",
   "name": "python3"
  },
  "language_info": {
   "codemirror_mode": {
    "name": "ipython",
    "version": 3
   },
   "file_extension": ".py",
   "mimetype": "text/x-python",
   "name": "python",
   "nbconvert_exporter": "python",
   "pygments_lexer": "ipython3",
   "version": "3.8.3"
  }
 },
 "nbformat": 4,
 "nbformat_minor": 4
}
