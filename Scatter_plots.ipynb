{
 "cells": [
  {
   "cell_type": "code",
   "execution_count": 9,
   "metadata": {},
   "outputs": [],
   "source": [
    "# Dependencies\n",
    "#ELO\n",
    "import matplotlib.pyplot as plt\n",
    "import pandas as pd\n",
    "import scipy.stats as st\n",
    "import numpy as np"
   ]
  },
  {
   "cell_type": "code",
   "execution_count": 10,
   "metadata": {},
   "outputs": [
    {
     "data": {
      "text/html": [
       "<div>\n",
       "<style scoped>\n",
       "    .dataframe tbody tr th:only-of-type {\n",
       "        vertical-align: middle;\n",
       "    }\n",
       "\n",
       "    .dataframe tbody tr th {\n",
       "        vertical-align: top;\n",
       "    }\n",
       "\n",
       "    .dataframe thead th {\n",
       "        text-align: right;\n",
       "    }\n",
       "</style>\n",
       "<table border=\"1\" class=\"dataframe\">\n",
       "  <thead>\n",
       "    <tr style=\"text-align: right;\">\n",
       "      <th></th>\n",
       "      <th>Unnamed: 0_x</th>\n",
       "      <th>Date</th>\n",
       "      <th>Interest rate</th>\n",
       "      <th>Unnamed: 0_y</th>\n",
       "      <th>Number_of_Cases</th>\n",
       "    </tr>\n",
       "  </thead>\n",
       "  <tbody>\n",
       "    <tr>\n",
       "      <th>0</th>\n",
       "      <td>0</td>\n",
       "      <td>01/2020</td>\n",
       "      <td>1.750000</td>\n",
       "      <td>0</td>\n",
       "      <td>3</td>\n",
       "    </tr>\n",
       "    <tr>\n",
       "      <th>1</th>\n",
       "      <td>1</td>\n",
       "      <td>02/2020</td>\n",
       "      <td>1.750000</td>\n",
       "      <td>1</td>\n",
       "      <td>17</td>\n",
       "    </tr>\n",
       "    <tr>\n",
       "      <th>2</th>\n",
       "      <td>2</td>\n",
       "      <td>03/2020</td>\n",
       "      <td>0.954545</td>\n",
       "      <td>2</td>\n",
       "      <td>3023</td>\n",
       "    </tr>\n",
       "    <tr>\n",
       "      <th>3</th>\n",
       "      <td>3</td>\n",
       "      <td>04/2020</td>\n",
       "      <td>0.250000</td>\n",
       "      <td>3</td>\n",
       "      <td>17993</td>\n",
       "    </tr>\n",
       "    <tr>\n",
       "      <th>4</th>\n",
       "      <td>4</td>\n",
       "      <td>05/2020</td>\n",
       "      <td>0.250000</td>\n",
       "      <td>4</td>\n",
       "      <td>29043</td>\n",
       "    </tr>\n",
       "    <tr>\n",
       "      <th>5</th>\n",
       "      <td>5</td>\n",
       "      <td>06/2020</td>\n",
       "      <td>0.250000</td>\n",
       "      <td>5</td>\n",
       "      <td>35309</td>\n",
       "    </tr>\n",
       "    <tr>\n",
       "      <th>6</th>\n",
       "      <td>6</td>\n",
       "      <td>07/2020</td>\n",
       "      <td>0.250000</td>\n",
       "      <td>6</td>\n",
       "      <td>39370</td>\n",
       "    </tr>\n",
       "    <tr>\n",
       "      <th>7</th>\n",
       "      <td>7</td>\n",
       "      <td>08/2020</td>\n",
       "      <td>0.250000</td>\n",
       "      <td>7</td>\n",
       "      <td>42509</td>\n",
       "    </tr>\n",
       "    <tr>\n",
       "      <th>8</th>\n",
       "      <td>8</td>\n",
       "      <td>09/2020</td>\n",
       "      <td>0.250000</td>\n",
       "      <td>8</td>\n",
       "      <td>52642</td>\n",
       "    </tr>\n",
       "    <tr>\n",
       "      <th>9</th>\n",
       "      <td>9</td>\n",
       "      <td>10/2020</td>\n",
       "      <td>0.250000</td>\n",
       "      <td>9</td>\n",
       "      <td>77269</td>\n",
       "    </tr>\n",
       "    <tr>\n",
       "      <th>10</th>\n",
       "      <td>11</td>\n",
       "      <td>11/2020</td>\n",
       "      <td>0.250000</td>\n",
       "      <td>10</td>\n",
       "      <td>78705</td>\n",
       "    </tr>\n",
       "  </tbody>\n",
       "</table>\n",
       "</div>"
      ],
      "text/plain": [
       "    Unnamed: 0_x     Date  Interest rate  Unnamed: 0_y  Number_of_Cases\n",
       "0              0  01/2020       1.750000             0                3\n",
       "1              1  02/2020       1.750000             1               17\n",
       "2              2  03/2020       0.954545             2             3023\n",
       "3              3  04/2020       0.250000             3            17993\n",
       "4              4  05/2020       0.250000             4            29043\n",
       "5              5  06/2020       0.250000             5            35309\n",
       "6              6  07/2020       0.250000             6            39370\n",
       "7              7  08/2020       0.250000             7            42509\n",
       "8              8  09/2020       0.250000             8            52642\n",
       "9              9  10/2020       0.250000             9            77269\n",
       "10            11  11/2020       0.250000            10            78705"
      ]
     },
     "execution_count": 10,
     "metadata": {},
     "output_type": "execute_result"
    }
   ],
   "source": [
    "# Study data files\n",
    "interest_rate_path = \"Final_Resources/2. interest_rate_ELO.csv\"\n",
    "covid_path = \"Final_Resources/1. COVID_Reported_cases_per_month_ON.csv\"\n",
    "\n",
    "interest_rate = pd.read_csv(interest_rate_path)\n",
    "covid_cases = pd.read_csv(covid_path)\n",
    "\n",
    "# Combine the data into a single dataset\n",
    "combine_df = pd.merge(interest_rate,covid_cases, how='inner', on='Date')\n",
    "\n",
    "combine_df['Number_of_Cases'] = combine_df['Number_of_Cases'].cumsum()\n",
    "# Display the data table for preview\n",
    "\n",
    "combine_df"
   ]
  },
  {
   "cell_type": "code",
   "execution_count": 13,
   "metadata": {},
   "outputs": [
    {
     "data": {
      "image/png": "[encoded data removed]",
      "text/plain": [
       "<Figure size 432x288 with 1 Axes>"
      ]
     },
     "metadata": {
      "needs_background": "light"
     },
     "output_type": "display_data"
    }
   ],
   "source": [
    "combine_df.plot(kind=\"scatter\",x=\"Number_of_Cases\",y=\"Interest rate\")\n",
    "title = \"Number of cases vs Interest rates\"\n",
    "plt.title(title)\n",
    "plt.ylabel(\"Interest rate\")\n",
    "plt.xlabel(\"Number of cases\")\n",
    "plt.show()"
   ]
  },
  {
   "cell_type": "code",
   "execution_count": null,
   "metadata": {},
   "outputs": [],
   "source": []
  },
  {
   "cell_type": "code",
   "execution_count": null,
   "metadata": {},
   "outputs": [],
   "source": []
  }
 ],
 "metadata": {
  "kernelspec": {
   "display_name": "Python 3",
   "language": "python",
   "name": "python3"
  },
  "language_info": {
   "codemirror_mode": {
    "name": "ipython",
    "version": 3
   },
   "file_extension": ".py",
   "mimetype": "text/x-python",
   "name": "python",
   "nbconvert_exporter": "python",
   "pygments_lexer": "ipython3",
   "version": "3.8.3"
  }
 },
 "nbformat": 4,
 "nbformat_minor": 4
}
